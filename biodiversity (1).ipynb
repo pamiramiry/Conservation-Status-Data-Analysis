{
 "cells": [
  {
   "cell_type": "code",
   "execution_count": 13,
   "metadata": {},
   "outputs": [
    {
     "name": "stdout",
     "output_type": "stream",
     "text": [
      "          scientific_name                  park_name  observations\n",
      "count               23296                      23296  23296.000000\n",
      "unique               5541                          4           NaN\n",
      "top     Castor canadensis  Yellowstone National Park           NaN\n",
      "freq                   12                       5824           NaN\n",
      "mean                  NaN                        NaN    142.287904\n",
      "std                   NaN                        NaN     69.890532\n",
      "min                   NaN                        NaN      9.000000\n",
      "25%                   NaN                        NaN     86.000000\n",
      "50%                   NaN                        NaN    124.000000\n",
      "75%                   NaN                        NaN    195.000000\n",
      "max                   NaN                        NaN    321.000000\n",
      "              category scientific_name   common_names conservation_status\n",
      "count             5824            5824           5824                 191\n",
      "unique               7            5541           5504                   4\n",
      "top     Vascular Plant  Holcus lanatus  Dicranum Moss  Species of Concern\n",
      "freq              4470               3              7                 161\n"
     ]
    }
   ],
   "source": [
    "import pandas as pd\n",
    "\n",
    "observation = pd.read_csv(\"observations.csv\")\n",
    "print(observation.describe(include = \"all\"))\n",
    "\n",
    "species = pd.read_csv(\"species_info.csv\")\n",
    "print(species.describe(include = \"all\"))\n",
    "\n",
    "# Through this analysis we see that theres only 191 species that has conservation status which means the others are not in any danger at all\n",
    "# We see 7 categories of species with Vascular Plant being the most common\n",
    "# By far birds are the most endangered species\n",
    "# Four different parks\n",
    "# No nan park names\n",
    "# Alot of null values for conservation status meaning that alot of animals arent in a negative status\n",
    "# Only 191 animals had a non negative conservation analysis\n",
    "# If we consider only the animals with non null conservation status then there only 191 with bird being the most common"
   ]
  },
  {
   "cell_type": "code",
   "execution_count": 24,
   "metadata": {},
   "outputs": [
    {
     "name": "stdout",
     "output_type": "stream",
     "text": [
      "Vascular Plant       4470\n",
      "Bird                  521\n",
      "Nonvascular Plant     333\n",
      "Mammal                214\n",
      "Fish                  127\n",
      "Amphibian              80\n",
      "Reptile                79\n",
      "Name: category, dtype: int64\n",
      "       category   scientific_name     common_names conservation_status\n",
      "count       191               191              191                 191\n",
      "unique        7               179              190                   4\n",
      "top        Bird  Myotis lucifugus  Gray Wolf, Wolf  Species of Concern\n",
      "freq         79                 3                2                 161\n",
      "Bird                 79\n",
      "Vascular Plant       46\n",
      "Mammal               38\n",
      "Fish                 11\n",
      "Amphibian             7\n",
      "Reptile               5\n",
      "Nonvascular Plant     5\n",
      "Name: category, dtype: int64\n"
     ]
    }
   ],
   "source": [
    "print(species.category.value_counts())\n",
    "endangered_species = species.dropna()\n",
    "print(endangered_species.describe())\n",
    "print(endangered_species.category.value_counts())\n"
   ]
  },
  {
   "cell_type": "code",
   "execution_count": 34,
   "metadata": {},
   "outputs": [
    {
     "data": {
      "image/png": "[encoded data removed]",
      "text/plain": [
       "<Figure size 576x432 with 1 Axes>"
      ]
     },
     "metadata": {
      "needs_background": "light"
     },
     "output_type": "display_data"
    }
   ],
   "source": [
    "conservationCategory = species[species.conservation_status != None]\\\n",
    "    .groupby([\"conservation_status\", \"category\"])['scientific_name']\\\n",
    "    .count()\\\n",
    "    .unstack()\n",
    "\n",
    "ax = conservationCategory.plot(kind = 'bar', figsize=(8,6), \n",
    "                               stacked=True)\n",
    "ax.set_xlabel(\"Conservation Status\")\n",
    "ax.set_ylabel(\"Number of Species\");"
   ]
  },
  {
   "cell_type": "code",
   "execution_count": 25,
   "metadata": {},
   "outputs": [
    {
     "name": "stdout",
     "output_type": "stream",
     "text": [
      "conservation_status  Endangered  In Recovery  Species of Concern  Threatened\n",
      "category                                                                    \n",
      "Amphibian                     1            0                   4           2\n",
      "Bird                          4            3                  72           0\n",
      "Fish                          3            0                   4           4\n",
      "Mammal                        7            1                  28           2\n",
      "Nonvascular Plant             0            0                   5           0\n",
      "Reptile                       0            0                   5           0\n",
      "Vascular Plant                1            0                  43           2\n"
     ]
    }
   ],
   "source": [
    "cat_con = pd.crosstab(endangered_species.category, endangered_species.conservation_status)\n",
    "print(cat_con)\n",
    "# Mammal have the most endangered, Mabe havent recovered yet"
   ]
  },
  {
   "cell_type": "code",
   "execution_count": 32,
   "metadata": {},
   "outputs": [
    {
     "name": "stdout",
     "output_type": "stream",
     "text": [
      "conservation_status  Endangered  In Recovery  Species of Concern  Threatened\n",
      "category                                                                    \n",
      "Amphibian              0.005236     0.000000            0.020942    0.010471\n",
      "Bird                   0.020942     0.015707            0.376963    0.000000\n",
      "Fish                   0.015707     0.000000            0.020942    0.020942\n",
      "Mammal                 0.036649     0.005236            0.146597    0.010471\n",
      "Nonvascular Plant      0.000000     0.000000            0.026178    0.000000\n",
      "Reptile                0.000000     0.000000            0.026178    0.000000\n",
      "Vascular Plant         0.005236     0.000000            0.225131    0.010471\n",
      "conservation_status\n",
      "Endangered            0.083770\n",
      "In Recovery           0.020942\n",
      "Species of Concern    0.842932\n",
      "Threatened            0.052356\n",
      "dtype: float64\n",
      "category\n",
      "Amphibian            0.036649\n",
      "Bird                 0.413613\n",
      "Fish                 0.057592\n",
      "Mammal               0.198953\n",
      "Nonvascular Plant    0.026178\n",
      "Reptile              0.026178\n",
      "Vascular Plant       0.240838\n",
      "dtype: float64\n",
      "[[ 0.58638743  0.14659686  5.90052356  0.36649215]\n",
      " [ 6.61780105  1.65445026 66.59162304  4.13612565]\n",
      " [ 0.92146597  0.23036649  9.27225131  0.57591623]\n",
      " [ 3.18324607  0.79581152 32.03141361  1.9895288 ]\n",
      " [ 0.41884817  0.10471204  4.21465969  0.2617801 ]\n",
      " [ 0.41884817  0.10471204  4.21465969  0.2617801 ]\n",
      " [ 3.85340314  0.96335079 38.77486911  2.40837696]]\n",
      "53.91636314015659\n",
      "1.8909788349761653e-05\n"
     ]
    }
   ],
   "source": [
    "from scipy.stats import chi2_contingency\n",
    "import numpy as np\n",
    "\n",
    "\n",
    "# Created Contigency table and used chi2 contigency library to see if variables are related\n",
    "# This time the p-value is less then 0.05 which means that the difference between the animals is significant in terms of there relationship with conservation status\n",
    "\n",
    "cc_prop = cat_con/len(endangered_species)\n",
    "print(cc_prop)\n",
    "\n",
    "conservative_marginal = cc_prop.sum(axis=0)\n",
    "print(conservative_marginal)\n",
    "category_marginal = cc_prop.sum(axis=1)\n",
    "print(category_marginal)\n",
    "\n",
    "\n",
    "chi2, pval, dof, expected = chi2_contingency(cat_con)\n",
    "print(expected)\n",
    "print(chi2)\n",
    "print(pval)\n"
   ]
  },
  {
   "cell_type": "code",
   "execution_count": null,
   "metadata": {},
   "outputs": [],
   "source": []
  }
 ],
 "metadata": {
  "kernelspec": {
   "display_name": "Python 3",
   "language": "python",
   "name": "python3"
  },
  "language_info": {
   "codemirror_mode": {
    "name": "ipython",
    "version": 3
   },
   "file_extension": ".py",
   "mimetype": "text/x-python",
   "name": "python",
   "nbconvert_exporter": "python",
   "pygments_lexer": "ipython3",
   "version": "3.8.8"
  }
 },
 "nbformat": 4,
 "nbformat_minor": 4
}
